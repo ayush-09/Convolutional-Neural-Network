{
  "nbformat": 4,
  "nbformat_minor": 0,
  "metadata": {
    "colab": {
      "name": "Text to array.ipynb",
      "provenance": [],
      "authorship_tag": "ABX9TyNkm7tn9DBxt/QMntRbDCqF",
      "include_colab_link": true
    },
    "kernelspec": {
      "name": "python3",
      "display_name": "Python 3"
    }
  },
  "cells": [
    {
      "cell_type": "markdown",
      "metadata": {
        "id": "view-in-github",
        "colab_type": "text"
      },
      "source": [
        "<a href=\"https://colab.research.google.com/github/ayush-09/Convolutional-Neural-Network/blob/master/Text_to_array.ipynb\" target=\"_parent\"><img src=\"https://colab.research.google.com/assets/colab-badge.svg\" alt=\"Open In Colab\"/></a>"
      ]
    },
    {
      "cell_type": "code",
      "metadata": {
        "id": "Tngxisi8oOH0",
        "colab_type": "code",
        "colab": {}
      },
      "source": [
        "import numpy as np\n",
        "import pandas as pd\n",
        "import math\n",
        "import re\n",
        "from google.colab import drive\n",
        "import time\n",
        "from bs4 import BeautifulSoup \n"
      ],
      "execution_count": null,
      "outputs": []
    },
    {
      "cell_type": "code",
      "metadata": {
        "id": "xrYcb80uouu3",
        "colab_type": "code",
        "colab": {}
      },
      "source": [
        "try:\n",
        "  %tensorflow_version 2.x\n",
        "except:\n",
        "  pass\n",
        "import tensorflow as tf\n",
        "from tensorflow.keras import layers\n",
        "import tensorflow_datasets as tds\n"
      ],
      "execution_count": null,
      "outputs": []
    },
    {
      "cell_type": "code",
      "metadata": {
        "id": "cvDk3DShpmJM",
        "colab_type": "code",
        "colab": {
          "base_uri": "https://localhost:8080/",
          "height": 121
        },
        "outputId": "4b062784-f524-43c3-84d8-40da86841d46"
      },
      "source": [
        "drive.mount(\"/content/drive\")"
      ],
      "execution_count": null,
      "outputs": [
        {
          "output_type": "stream",
          "text": [
            "Go to this URL in a browser: https://accounts.google.com/o/oauth2/auth?client_id=947318989803-6bn6qk8qdgf4n4g3pfee6491hc0brc4i.apps.googleusercontent.com&redirect_uri=urn%3aietf%3awg%3aoauth%3a2.0%3aoob&scope=email%20https%3a%2f%2fwww.googleapis.com%2fauth%2fdocs.test%20https%3a%2f%2fwww.googleapis.com%2fauth%2fdrive%20https%3a%2f%2fwww.googleapis.com%2fauth%2fdrive.photos.readonly%20https%3a%2f%2fwww.googleapis.com%2fauth%2fpeopleapi.readonly&response_type=code\n",
            "\n",
            "Enter your authorization code:\n",
            "··········\n",
            "Mounted at /content/drive\n"
          ],
          "name": "stdout"
        }
      ]
    },
    {
      "cell_type": "code",
      "metadata": {
        "id": "glhA1eSJqW5r",
        "colab_type": "code",
        "colab": {}
      },
      "source": [
        "cols=[\"sentiments\",\"id\",\"date\",\"query\",\"user\",\"text\"]\n",
        "train_data=pd.read_csv(\"/content/drive/My Drive/CNN_NLP/data/train.csv\",header=None,names=cols,engine=\"python\",encoding=\"latin1\")\n",
        "test_data=pd.read_csv(\"/content/drive/My Drive/CNN_NLP/data/test.csv\",header=None,names=cols,engine=\"python\",encoding=\"latin1\")"
      ],
      "execution_count": null,
      "outputs": []
    },
    {
      "cell_type": "code",
      "metadata": {
        "id": "FVvRdhNLvolV",
        "colab_type": "code",
        "colab": {
          "base_uri": "https://localhost:8080/",
          "height": 195
        },
        "outputId": "1ee7ed18-b737-4841-bf6e-412bb5f2f6c9"
      },
      "source": [
        "train_data.head()"
      ],
      "execution_count": null,
      "outputs": [
        {
          "output_type": "execute_result",
          "data": {
            "text/html": [
              "<div>\n",
              "<style scoped>\n",
              "    .dataframe tbody tr th:only-of-type {\n",
              "        vertical-align: middle;\n",
              "    }\n",
              "\n",
              "    .dataframe tbody tr th {\n",
              "        vertical-align: top;\n",
              "    }\n",
              "\n",
              "    .dataframe thead th {\n",
              "        text-align: right;\n",
              "    }\n",
              "</style>\n",
              "<table border=\"1\" class=\"dataframe\">\n",
              "  <thead>\n",
              "    <tr style=\"text-align: right;\">\n",
              "      <th></th>\n",
              "      <th>sentiments</th>\n",
              "      <th>id</th>\n",
              "      <th>date</th>\n",
              "      <th>query</th>\n",
              "      <th>user</th>\n",
              "      <th>text</th>\n",
              "    </tr>\n",
              "  </thead>\n",
              "  <tbody>\n",
              "    <tr>\n",
              "      <th>0</th>\n",
              "      <td>0</td>\n",
              "      <td>1467810369</td>\n",
              "      <td>Mon Apr 06 22:19:45 PDT 2009</td>\n",
              "      <td>NO_QUERY</td>\n",
              "      <td>_TheSpecialOne_</td>\n",
              "      <td>@switchfoot http://twitpic.com/2y1zl - Awww, t...</td>\n",
              "    </tr>\n",
              "    <tr>\n",
              "      <th>1</th>\n",
              "      <td>0</td>\n",
              "      <td>1467810672</td>\n",
              "      <td>Mon Apr 06 22:19:49 PDT 2009</td>\n",
              "      <td>NO_QUERY</td>\n",
              "      <td>scotthamilton</td>\n",
              "      <td>is upset that he can't update his Facebook by ...</td>\n",
              "    </tr>\n",
              "    <tr>\n",
              "      <th>2</th>\n",
              "      <td>0</td>\n",
              "      <td>1467810917</td>\n",
              "      <td>Mon Apr 06 22:19:53 PDT 2009</td>\n",
              "      <td>NO_QUERY</td>\n",
              "      <td>mattycus</td>\n",
              "      <td>@Kenichan I dived many times for the ball. Man...</td>\n",
              "    </tr>\n",
              "    <tr>\n",
              "      <th>3</th>\n",
              "      <td>0</td>\n",
              "      <td>1467811184</td>\n",
              "      <td>Mon Apr 06 22:19:57 PDT 2009</td>\n",
              "      <td>NO_QUERY</td>\n",
              "      <td>ElleCTF</td>\n",
              "      <td>my whole body feels itchy and like its on fire</td>\n",
              "    </tr>\n",
              "    <tr>\n",
              "      <th>4</th>\n",
              "      <td>0</td>\n",
              "      <td>1467811193</td>\n",
              "      <td>Mon Apr 06 22:19:57 PDT 2009</td>\n",
              "      <td>NO_QUERY</td>\n",
              "      <td>Karoli</td>\n",
              "      <td>@nationwideclass no, it's not behaving at all....</td>\n",
              "    </tr>\n",
              "  </tbody>\n",
              "</table>\n",
              "</div>"
            ],
            "text/plain": [
              "   sentiments  ...                                               text\n",
              "0           0  ...  @switchfoot http://twitpic.com/2y1zl - Awww, t...\n",
              "1           0  ...  is upset that he can't update his Facebook by ...\n",
              "2           0  ...  @Kenichan I dived many times for the ball. Man...\n",
              "3           0  ...    my whole body feels itchy and like its on fire \n",
              "4           0  ...  @nationwideclass no, it's not behaving at all....\n",
              "\n",
              "[5 rows x 6 columns]"
            ]
          },
          "metadata": {
            "tags": []
          },
          "execution_count": 5
        }
      ]
    },
    {
      "cell_type": "code",
      "metadata": {
        "id": "Edz17RKXwz4M",
        "colab_type": "code",
        "colab": {}
      },
      "source": [
        "train_data.drop([\"id\",\"user\",\"query\",\"date\"],axis=1,inplace=True)"
      ],
      "execution_count": null,
      "outputs": []
    },
    {
      "cell_type": "code",
      "metadata": {
        "id": "yqg_lp3xxoQD",
        "colab_type": "code",
        "colab": {
          "base_uri": "https://localhost:8080/",
          "height": 195
        },
        "outputId": "73867242-145b-4083-d7f6-911d1ec8f312"
      },
      "source": [
        "train_data.head()"
      ],
      "execution_count": null,
      "outputs": [
        {
          "output_type": "execute_result",
          "data": {
            "text/html": [
              "<div>\n",
              "<style scoped>\n",
              "    .dataframe tbody tr th:only-of-type {\n",
              "        vertical-align: middle;\n",
              "    }\n",
              "\n",
              "    .dataframe tbody tr th {\n",
              "        vertical-align: top;\n",
              "    }\n",
              "\n",
              "    .dataframe thead th {\n",
              "        text-align: right;\n",
              "    }\n",
              "</style>\n",
              "<table border=\"1\" class=\"dataframe\">\n",
              "  <thead>\n",
              "    <tr style=\"text-align: right;\">\n",
              "      <th></th>\n",
              "      <th>sentiments</th>\n",
              "      <th>text</th>\n",
              "    </tr>\n",
              "  </thead>\n",
              "  <tbody>\n",
              "    <tr>\n",
              "      <th>0</th>\n",
              "      <td>0</td>\n",
              "      <td>@switchfoot http://twitpic.com/2y1zl - Awww, t...</td>\n",
              "    </tr>\n",
              "    <tr>\n",
              "      <th>1</th>\n",
              "      <td>0</td>\n",
              "      <td>is upset that he can't update his Facebook by ...</td>\n",
              "    </tr>\n",
              "    <tr>\n",
              "      <th>2</th>\n",
              "      <td>0</td>\n",
              "      <td>@Kenichan I dived many times for the ball. Man...</td>\n",
              "    </tr>\n",
              "    <tr>\n",
              "      <th>3</th>\n",
              "      <td>0</td>\n",
              "      <td>my whole body feels itchy and like its on fire</td>\n",
              "    </tr>\n",
              "    <tr>\n",
              "      <th>4</th>\n",
              "      <td>0</td>\n",
              "      <td>@nationwideclass no, it's not behaving at all....</td>\n",
              "    </tr>\n",
              "  </tbody>\n",
              "</table>\n",
              "</div>"
            ],
            "text/plain": [
              "   sentiments                                               text\n",
              "0           0  @switchfoot http://twitpic.com/2y1zl - Awww, t...\n",
              "1           0  is upset that he can't update his Facebook by ...\n",
              "2           0  @Kenichan I dived many times for the ball. Man...\n",
              "3           0    my whole body feels itchy and like its on fire \n",
              "4           0  @nationwideclass no, it's not behaving at all...."
            ]
          },
          "metadata": {
            "tags": []
          },
          "execution_count": 7
        }
      ]
    },
    {
      "cell_type": "code",
      "metadata": {
        "id": "hoEg9DPrxvCz",
        "colab_type": "code",
        "colab": {}
      },
      "source": [
        "def clean_tweet(tweet):\n",
        "  tweet=BeautifulSoup(tweet, \"lxml\").get_text()\n",
        "  tweet=re.sub(r\"@[A-Za-z0-9]+\", ' ',tweet)\n",
        "  tweet=re.sub(r\"https?://[A-Za-z0-9./]+\", ' ',tweet)\n",
        "  tweet=re.sub(r\"[^a-zA-z.!?']\", ' ',tweet)\n",
        "  tweet=re.sub(r\" +\", \" \",tweet)\n",
        "  return tweet"
      ],
      "execution_count": null,
      "outputs": []
    },
    {
      "cell_type": "code",
      "metadata": {
        "id": "_fI4hJCLLPAu",
        "colab_type": "code",
        "colab": {}
      },
      "source": [
        "data_clean=[clean_tweet(tweet) for tweet in train_data.text]"
      ],
      "execution_count": null,
      "outputs": []
    },
    {
      "cell_type": "code",
      "metadata": {
        "id": "PT_OXME13kIF",
        "colab_type": "code",
        "colab": {}
      },
      "source": [
        "data_labels=train_data.sentiments.values\n",
        "data_labels[data_labels==4]=1"
      ],
      "execution_count": null,
      "outputs": []
    },
    {
      "cell_type": "code",
      "metadata": {
        "id": "zRWi5O14GcjF",
        "colab_type": "code",
        "colab": {
          "base_uri": "https://localhost:8080/",
          "height": 34
        },
        "outputId": "d3bc599d-dc83-4318-d328-5ba4c5b473a1"
      },
      "source": [
        "set(data_labels)"
      ],
      "execution_count": null,
      "outputs": [
        {
          "output_type": "execute_result",
          "data": {
            "text/plain": [
              "{0, 1}"
            ]
          },
          "metadata": {
            "tags": []
          },
          "execution_count": 11
        }
      ]
    },
    {
      "cell_type": "code",
      "metadata": {
        "id": "t0LPUBEUHpud",
        "colab_type": "code",
        "colab": {}
      },
      "source": [
        "tokenizer=tds.features.text.SubwordTextEncoder.build_from_corpus(\n",
        "    data_clean,target_vocab_size=2**16\n",
        ")\n",
        "data_input=[tokenizer.encode(sentence) for sentence in data_clean]"
      ],
      "execution_count": null,
      "outputs": []
    },
    {
      "cell_type": "code",
      "metadata": {
        "id": "QqOiA0YqIrGe",
        "colab_type": "code",
        "colab": {}
      },
      "source": [
        "MAX_LEN=max([len(sentence) for sentence in data_input])\n",
        "data_input=tf.keras.preprocessing.sequence.pad_sequences(data_input,value=0,padding=\"post\",maxlen=MAX_LEN)\n"
      ],
      "execution_count": null,
      "outputs": []
    },
    {
      "cell_type": "code",
      "metadata": {
        "id": "CPMV7g6CV-9H",
        "colab_type": "code",
        "colab": {}
      },
      "source": [
        "test_idx=np.random.randint(0,800000,8000)\n",
        "test_idx=np.concatenate((test_idx,test_idx+800000))"
      ],
      "execution_count": null,
      "outputs": []
    },
    {
      "cell_type": "code",
      "metadata": {
        "id": "Jj4gAEchXU5W",
        "colab_type": "code",
        "colab": {}
      },
      "source": [
        "test_inputs=data_input[test_idx]\n",
        "test_labels=data_labels[test_idx]\n",
        "train_input=np.delete(data_input,test_idx,axis=0)\n",
        "train_labels=np.delete(data_labels,test_idx)"
      ],
      "execution_count": null,
      "outputs": []
    },
    {
      "cell_type": "code",
      "metadata": {
        "id": "awk4_mvNiTap",
        "colab_type": "code",
        "colab": {}
      },
      "source": [
        "class DCNN(tf.keras.Model):\n",
        "  def __init__(self,vocab_size,emb_dim=130,nb_filters=50,FFN_units=512,nb_classes=2,dropout_rate=0.1,training=False,name=\"dcnn\"):\n",
        "    super(DCNN,self).__init__(name=name)\n",
        "    self.embedding=layers.Embedding(vocab_size,emb_dim)\n",
        "    self.bigram=layers.Conv1D(filters=nb_filters,kernel_size=2,padding=\"valid\",activation=\"relu\")\n",
        "    self.pool_1=layers.GlobalMaxPool1D()\n",
        "    self.trigram=layers.Conv1D(filters=nb_filters,kernel_size=3,padding=\"valid\",activation=\"relu\")\n",
        "    self.pool_2=layers.GlobalMaxPool1D()\n",
        "    self.fourgram=layers.Conv1D(filters=nb_filters,kernel_size=4,padding=\"valid\",activation=\"relu\")\n",
        "    self.pool_3=layers.GlobalMaxPool1D()\n",
        "    self.dense1=layers.Dense(units=FFN_units,activation=\"relu\")\n",
        "    self.dropout=layers.Dropout(rate=dropout_rate)\n",
        "    if nb_classes==2:\n",
        "      self.last_dense=layers.Dense(units=1,activation=\"sigmoid\")\n",
        "    else:\n",
        "      self.last_dense=layers.Dense(units=nb_classes,activation=\"softmax\")\n",
        "  def call(self,inputs,training):\n",
        "    x=self.embedding(inputs)\n",
        "    x_1=self.bigram(x)\n",
        "    x_1=self.pool_1(x_1)\n",
        "    x_2=self.trigram(x)\n",
        "    x_2=self.pool_1(x_2)\n",
        "    x_3=self.fourgram(x)\n",
        "    x_3=self.pool_1(x_3)\n",
        "\n",
        "    merged=tf.concat([x_1,x_2,x_3],axis=-1) #(batch_size=3*nb_filters)\n",
        "    merged=self.dense1(merged)\n",
        "    merged=self.dropout(merged,training)\n",
        "    output=self.last_dense(merged)\n",
        "    return output\n",
        "\n",
        "\n"
      ],
      "execution_count": null,
      "outputs": []
    },
    {
      "cell_type": "code",
      "metadata": {
        "id": "Xd3tCn2Kp60Y",
        "colab_type": "code",
        "colab": {}
      },
      "source": [
        "VOCAB_SIZE=tokenizer.vocab_size\n",
        "EMB_DIM=200\n",
        "NB_FILTERS=100\n",
        "FFN_UNITS=256\n",
        "NB_CLASSES=len(set(train_labels))\n",
        "DROPOUT_RATE=0.2\n",
        "BATCH_SIZE=32\n",
        "NB_EPOCHS=5"
      ],
      "execution_count": null,
      "outputs": []
    },
    {
      "cell_type": "code",
      "metadata": {
        "id": "u8GyZlDCqygX",
        "colab_type": "code",
        "colab": {}
      },
      "source": [
        "Dcnn=DCNN(vocab_size=VOCAB_SIZE,emb_dim=EMB_DIM,nb_filters=NB_FILTERS,FFN_units=FFN_UNITS,nb_classes=NB_CLASSES,dropout_rate=DROPOUT_RATE)"
      ],
      "execution_count": null,
      "outputs": []
    },
    {
      "cell_type": "code",
      "metadata": {
        "id": "ib6gUl3Bq9Se",
        "colab_type": "code",
        "colab": {}
      },
      "source": [
        "if NB_CLASSES==2:\n",
        "  Dcnn.compile(loss=\"binary_crossentropy\",optimizer=\"adam\",metrics=[\"accuracy\"])\n",
        "else:\n",
        "  Dcnn.compile(loss=\"sparse_categorical_crossentropy\",optimizer=\"adam\",metrics=\"sparse_categorical_accuracy\")\n"
      ],
      "execution_count": null,
      "outputs": []
    },
    {
      "cell_type": "code",
      "metadata": {
        "id": "hmZ5IyuRs3Nw",
        "colab_type": "code",
        "colab": {}
      },
      "source": [
        "checkpoint_path=\"./drive/My Drive/CNN_NPL/ckpt/\"\n",
        "ckpt=tf.train.Checkpoint(Dcnn=Dcnn)\n",
        "ckpt_manager=tf.train.CheckpointManager(ckpt,checkpoint_path,max_to_keep=1)\n",
        "if ckpt_manager.latest_checkpoint:\n",
        "  ckpt.restore(ckpt_manager.latest_checkpoint)\n",
        "  print(\"Latest checkpoint restored!!\")"
      ],
      "execution_count": null,
      "outputs": []
    },
    {
      "cell_type": "code",
      "metadata": {
        "id": "rlj3Bcu7te7d",
        "colab_type": "code",
        "colab": {}
      },
      "source": [
        "Dcnn.fit(train_input,train_labels,batch_size=BATCH_SIZE,epochs=NB_EPOCHS)\n",
        "ckpt_manager.save()"
      ],
      "execution_count": null,
      "outputs": []
    },
    {
      "cell_type": "code",
      "metadata": {
        "id": "KANFm_VJ-Qhm",
        "colab_type": "code",
        "colab": {}
      },
      "source": [
        "Dcnn_name=\"Text to Array.h5\"\n",
        "Dcnn.save_weights(Dcnn_name)"
      ],
      "execution_count": null,
      "outputs": []
    },
    {
      "cell_type": "code",
      "metadata": {
        "id": "WrkGPEu8ukD4",
        "colab_type": "code",
        "colab": {
          "base_uri": "https://localhost:8080/",
          "height": 50
        },
        "outputId": "406e89c4-f512-4877-f432-2237f7704d29"
      },
      "source": [
        "results=Dcnn.evaluate(test_inputs,test_labels,batch_size=BATCH_SIZE)\n",
        "print(results)"
      ],
      "execution_count": null,
      "outputs": [
        {
          "output_type": "stream",
          "text": [
            "500/500 [==============================] - 11s 22ms/step - loss: 0.4025 - accuracy: 0.8327\n",
            "[0.4024994373321533, 0.832687497138977]\n"
          ],
          "name": "stdout"
        }
      ]
    },
    {
      "cell_type": "code",
      "metadata": {
        "id": "0bhhEl2FgdX-",
        "colab_type": "code",
        "colab": {
          "base_uri": "https://localhost:8080/",
          "height": 34
        },
        "outputId": "ecd32b3e-2757-421a-948c-75e50b3dea5d"
      },
      "source": [
        "Dcnn(np.array([tokenizer.encode(\"I like you so much\")]),training=False).numpy()"
      ],
      "execution_count": 35,
      "outputs": [
        {
          "output_type": "execute_result",
          "data": {
            "text/plain": [
              "array([[0.811249]], dtype=float32)"
            ]
          },
          "metadata": {
            "tags": []
          },
          "execution_count": 35
        }
      ]
    },
    {
      "cell_type": "code",
      "metadata": {
        "id": "YnCSQNzZ52E4",
        "colab_type": "code",
        "colab": {}
      },
      "source": [
        ""
      ],
      "execution_count": null,
      "outputs": []
    }
  ]
}